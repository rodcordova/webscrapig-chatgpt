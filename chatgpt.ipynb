{
 "cells": [
  {
   "cell_type": "code",
   "execution_count": 11,
   "metadata": {},
   "outputs": [
    {
     "ename": "SyntaxError",
     "evalue": "unterminated string literal (detected at line 4) (config.py, line 4)",
     "output_type": "error",
     "traceback": [
      "Traceback \u001b[1;36m(most recent call last)\u001b[0m:\n",
      "\u001b[0m  File \u001b[0;32m~\\AppData\\Roaming\\Python\\Python311\\site-packages\\IPython\\core\\interactiveshell.py:3508\u001b[0m in \u001b[0;35mrun_code\u001b[0m\n    exec(code_obj, self.user_global_ns, self.user_ns)\u001b[0m\n",
      "\u001b[1;36m  Cell \u001b[1;32mIn[11], line 12\u001b[1;36m\n\u001b[1;33m    from config import *\u001b[1;36m\n",
      "\u001b[1;36m  File \u001b[1;32mc:\\Users\\rodrigo\\Desktop\\Sistema-de-recomendacion\\chatgpt\\config.py:4\u001b[1;36m\u001b[0m\n\u001b[1;33m    '\u001b[0m\n\u001b[1;37m    ^\u001b[0m\n\u001b[1;31mSyntaxError\u001b[0m\u001b[1;31m:\u001b[0m unterminated string literal (detected at line 4)\n"
     ]
    }
   ],
   "source": [
    "# Modulos python\n",
    "import os\n",
    "import sys\n",
    "import time\n",
    "import pickle\n",
    "import tempfile\n",
    "# Modulos de terceros\n",
    "from selenium.webdriver.common.by import By # buscar tipos de elementos\n",
    "from selenium.webdriver.support.ui import WebDriverWait # para esperar elementos de selenium\n",
    "from selenium.webdriver.support import expected_conditions as ec # indicar condiciones de selenium\n",
    "# Modulos propios\n",
    "from config import *\n",
    "from Funciones.colores import *\n",
    "from Funciones.iniciar_webdriver_uc import iniciar_webdriver"
   ]
  },
  {
   "cell_type": "code",
   "execution_count": 12,
   "metadata": {},
   "outputs": [
    {
     "ename": "SyntaxError",
     "evalue": "unterminated string literal (detected at line 4) (config.py, line 4)",
     "output_type": "error",
     "traceback": [
      "Traceback \u001b[1;36m(most recent call last)\u001b[0m:\n",
      "\u001b[0m  File \u001b[0;32m~\\AppData\\Roaming\\Python\\Python311\\site-packages\\IPython\\core\\interactiveshell.py:3508\u001b[0m in \u001b[0;35mrun_code\u001b[0m\n    exec(code_obj, self.user_global_ns, self.user_ns)\u001b[0m\n",
      "\u001b[0m  Cell \u001b[0;32mIn[12], line 1\u001b[0m\n    from chat import ChatGpt\u001b[0m\n",
      "\u001b[1;36m  File \u001b[1;32mc:\\Users\\rodrigo\\Desktop\\Sistema-de-recomendacion\\chatgpt\\chat.py:12\u001b[1;36m\n\u001b[1;33m    from config import *\u001b[1;36m\n",
      "\u001b[1;36m  File \u001b[1;32mc:\\Users\\rodrigo\\Desktop\\Sistema-de-recomendacion\\chatgpt\\config.py:4\u001b[1;36m\u001b[0m\n\u001b[1;33m    '\u001b[0m\n\u001b[1;37m    ^\u001b[0m\n\u001b[1;31mSyntaxError\u001b[0m\u001b[1;31m:\u001b[0m unterminated string literal (detected at line 4)\n"
     ]
    }
   ],
   "source": [
    "from chat import ChatGpt\n",
    "# MAIN\n",
    "if __name__=='__main__':\n",
    "    chatgpt=ChatGpt(OPENAI_USER,OPENAI_PASS) \n",
    "    input(\"Pausa...\")"
   ]
  }
 ],
 "metadata": {
  "kernelspec": {
   "display_name": "steam_v1",
   "language": "python",
   "name": "python3"
  },
  "language_info": {
   "codemirror_mode": {
    "name": "ipython",
    "version": 3
   },
   "file_extension": ".py",
   "mimetype": "text/x-python",
   "name": "python",
   "nbconvert_exporter": "python",
   "pygments_lexer": "ipython3",
   "version": "3.11.4"
  },
  "orig_nbformat": 4
 },
 "nbformat": 4,
 "nbformat_minor": 2
}
